{
 "cells": [
  {
   "cell_type": "code",
   "execution_count": 1,
   "metadata": {},
   "outputs": [],
   "source": [
    "from gsscrape.scraper import *\n",
    "from gsscrape.reporter import *"
   ]
  },
  {
   "cell_type": "markdown",
   "metadata": {},
   "source": [
    "Scrap Google Scholar Paper Info"
   ]
  },
  {
   "cell_type": "code",
   "execution_count": 2,
   "metadata": {},
   "outputs": [],
   "source": [
    "# Details about the author\n",
    "scholarUserId = \"-VPPZ8YAAAAJ\"\n",
    "name = \"C Sánchez Muñoz\"\n",
    "pseudonyms = [\"CS Muñoz\", \"CS Munoz\", \"C Sanchez-Munoz\", \"C Sánchez-Muñoz\"]"
   ]
  },
  {
   "cell_type": "code",
   "execution_count": null,
   "metadata": {},
   "outputs": [],
   "source": [
    "df_papers =  getGSdata(scholarUserId, name, pseudonyms)\n",
    "df_papers"
   ]
  },
  {
   "cell_type": "markdown",
   "metadata": {},
   "source": [
    "Generate LaTeX CV snippet with publications"
   ]
  },
  {
   "cell_type": "code",
   "execution_count": null,
   "metadata": {},
   "outputs": [],
   "source": [
    "# Example usage\n",
    "# Assuming df_papers is your DataFrame and \"C Sánchez Muñoz\" is the name to bolden\n",
    "generate_latex_report(df_papers, \"C. Sánchez Muñoz\", \"publications_report.tex\")"
   ]
  }
 ],
 "metadata": {
  "kernelspec": {
   "display_name": "gsscrape",
   "language": "python",
   "name": "python3"
  },
  "language_info": {
   "codemirror_mode": {
    "name": "ipython",
    "version": 3
   },
   "file_extension": ".py",
   "mimetype": "text/x-python",
   "name": "python",
   "nbconvert_exporter": "python",
   "pygments_lexer": "ipython3",
   "version": "3.9.21"
  }
 },
 "nbformat": 4,
 "nbformat_minor": 2
}
